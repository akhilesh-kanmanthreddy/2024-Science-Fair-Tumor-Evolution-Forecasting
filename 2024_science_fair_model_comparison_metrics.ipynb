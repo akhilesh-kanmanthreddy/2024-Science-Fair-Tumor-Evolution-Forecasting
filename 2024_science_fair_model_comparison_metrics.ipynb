{
  "nbformat": 4,
  "nbformat_minor": 0,
  "metadata": {
    "colab": {
      "provenance": [],
      "mount_file_id": "1if9IzAGiQx46Z_2d6tBC6bOCchBBHdwk",
      "authorship_tag": "ABX9TyP4/TR/JCUHxpoaqi3JC5/e",
      "include_colab_link": true
    },
    "kernelspec": {
      "name": "python3",
      "display_name": "Python 3"
    },
    "language_info": {
      "name": "python"
    }
  },
  "cells": [
    {
      "cell_type": "markdown",
      "metadata": {
        "id": "view-in-github",
        "colab_type": "text"
      },
      "source": [
        "<a href=\"https://colab.research.google.com/github/akhilesh-kanmanthreddy/2024_Science_Fair_Tumor_Evolution_Forecasting/blob/main/2024_science_fair_model_comparison_metrics.ipynb\" target=\"_parent\"><img src=\"https://colab.research.google.com/assets/colab-badge.svg\" alt=\"Open In Colab\"/></a>"
      ]
    },
    {
      "cell_type": "code",
      "source": [
        "!pip install pywavefront"
      ],
      "metadata": {
        "id": "VTDLH8KeEU5A"
      },
      "execution_count": null,
      "outputs": []
    },
    {
      "cell_type": "code",
      "execution_count": null,
      "metadata": {
        "id": "ijb2AoUiDznz"
      },
      "outputs": [],
      "source": [
        "import numpy as np\n",
        "from sklearn.metrics import mean_absolute_error, mean_squared_error\n",
        "from scipy.spatial import ConvexHull, distance\n",
        "\n",
        "def calculate_volume(coordinates):\n",
        "    # Calculate the volume of a convex hull formed by the coordinates\n",
        "    # using the ConvexHull method from the scipy library\n",
        "    hull = ConvexHull(coordinates)\n",
        "    hull_volume = hull.volume\n",
        "\n",
        "    return hull_volume\n",
        "\n",
        "def compare_coordinates_metrics(coord_set1, coord_set2):\n",
        "    volume1 = calculate_volume(coord_set1)\n",
        "    volume2 = calculate_volume(coord_set2)\n",
        "    # RMSE\n",
        "    rmse = np.sqrt(mean_squared_error([volume1], [volume2]))\n",
        "    # MAE\n",
        "    mae = mean_absolute_error([volume1], [volume2])\n",
        "    # VOI\n",
        "    voi = 1 - (min(volume1, volume2) / max(volume1, volume2))\n",
        "    # Jaccard Index\n",
        "    intersection = np.intersect1d(volume1, volume2)\n",
        "    union = np.union1d(volume1, volume2)\n",
        "    jaccard_index = len(intersection) / len(union)\n",
        "    # Hausdorff Distance\n",
        "    hausdorff_distance = max(distance.directed_hausdorff(coord_set1, coord_set2)[0],\n",
        "                             distance.directed_hausdorff(coord_set2, coord_set1)[0])\n",
        "    print(f\"Theoretical Volume 1: {volume1}\")\n",
        "    print(f\"Theoretical Volume 2: {volume2}\")\n",
        "    print(f\"Root Mean Squared Error (RMSE): {rmse}\")\n",
        "    print(f\"Mean Absolute Error (MAE): {mae}\")\n",
        "    print(f\"Volume Overlap Index (VOI): {voi}\")\n",
        "    print(f\"Jaccard Index: {jaccard_index}\")\n",
        "    print(f\"Hausdorff Distance: {hausdorff_distance}\")"
      ]
    },
    {
      "cell_type": "code",
      "source": [
        "import numpy as np\n",
        "import matplotlib.pyplot as plt\n",
        "from sklearn.metrics import mean_squared_error\n",
        "from scipy.spatial import ConvexHull, distance\n",
        "from scipy.interpolate import griddata\n",
        "\n",
        "def compare_coordinates_heat_volume(coord_set1, coord_set2, grid_resolution=100):\n",
        "    volume1 = calculate_volume(coord_set1)\n",
        "    volume2 = calculate_volume(coord_set2)\n",
        "    x1, y1, z1 = np.array(coord_set1).T\n",
        "    x2, y2, z2 = np.array(coord_set2).T\n",
        "    x_min, x_max = min(np.min(x1), np.min(x2)), max(np.max(x1), np.max(x2))\n",
        "    y_min, y_max = min(np.min(y1), np.min(y2)), max(np.max(y1), np.max(y2))\n",
        "    z_min, z_max = min(np.min(z1), np.min(z2)), max(np.max(z1), np.max(z2))\n",
        "    grid_x, grid_y, grid_z1 = np.meshgrid(\n",
        "        np.linspace(x_min, x_max, grid_resolution),\n",
        "        np.linspace(y_min, y_max, grid_resolution),\n",
        "        np.linspace(z_min, z_max, grid_resolution),\n",
        "        indexing='ij'\n",
        "    )\n",
        "    points1 = np.column_stack((x1, y1, z1))\n",
        "    values1 = np.ones(len(coord_set1)) * volume1\n",
        "    points2 = np.column_stack((x2, y2, z2))\n",
        "    values2 = np.ones(len(coord_set2)) * volume2\n",
        "    grid_volume1 = griddata(points1, values1, (grid_x, grid_y, grid_z1), method='linear')\n",
        "    grid_volume2 = griddata(points2, values2, (grid_x, grid_y, grid_z1), method='linear')\n",
        "    volume_difference = np.abs(grid_volume1 - grid_volume2)\n",
        "    # Create a 3D heatmap\n",
        "    fig = plt.figure()\n",
        "    ax = fig.add_subplot(111, projection='3d')\n",
        "    sc = ax.scatter(grid_x.flatten(), grid_y.flatten(), grid_z1.flatten(), c=volume_difference.flatten(), cmap='viridis', marker='o')\n",
        "    # Customize the colorbar\n",
        "    cbar = plt.colorbar(sc)\n",
        "    cbar.set_label('Volume Difference', rotation=270, labelpad=15)\n",
        "    ax.set_title('3D Heatmap - Volume Difference')\n",
        "    ax.set_xlabel('X')\n",
        "    ax.set_ylabel('Y')\n",
        "    ax.set_zlabel('Z')\n",
        "    plt.show()"
      ],
      "metadata": {
        "id": "yOSm3z7RMNKB"
      },
      "execution_count": null,
      "outputs": []
    },
    {
      "cell_type": "code",
      "source": [
        "#load obj points\n",
        "def load_obj(file_path):\n",
        "    vertices = []\n",
        "\n",
        "    with open(file_path, 'r') as file:\n",
        "        for line in file:\n",
        "            parts = line.strip().split()\n",
        "            if parts:\n",
        "                if parts[0] == 'v' and len(parts) == 4:\n",
        "                    # Read vertices (v x y z)\n",
        "                    x, y, z = map(float, parts[1:])\n",
        "                    vertices.append((x, y, z))\n",
        "\n",
        "    return vertices"
      ],
      "metadata": {
        "id": "ufdksWgYETUI"
      },
      "execution_count": null,
      "outputs": []
    },
    {
      "cell_type": "code",
      "source": [
        "compare_coordinates_metrics(load_obj(\"/content/drive/MyDrive/Science Fair 2024 Data/patient 040179-12/040179-obj-2/040179_19011026_AXIALES_C+_msk/tinker_centered.obj\"), list_of_coordinates2)"
      ],
      "metadata": {
        "id": "f1kGX5VZEKke"
      },
      "execution_count": null,
      "outputs": []
    },
    {
      "cell_type": "code",
      "source": [
        "compare_coordinates_heat_volume(load_obj(\"/content/drive/MyDrive/Science Fair 2024 Data/patient 040179-12/040179-obj-2/040179_19011026_AXIALES_C+_msk/tinker_centered.obj\"), list_of_coordinates2)"
      ],
      "metadata": {
        "id": "kj7OLgPkMZTy"
      },
      "execution_count": null,
      "outputs": []
    },
    {
      "cell_type": "code",
      "source": [
        "list_of_coordinates2 = []"
      ],
      "metadata": {
        "id": "NzmYJi3AvBWo"
      },
      "execution_count": null,
      "outputs": []
    }
  ]
}
{
  "nbformat": 4,
  "nbformat_minor": 0,
  "metadata": {
    "colab": {
      "provenance": [],
      "mount_file_id": "1B5CE9mHln2-smooCRys5JPvvRetz7BtD",
      "authorship_tag": "ABX9TyN8pDRFskw/2PaoXtD/Fg1J",
      "include_colab_link": true
    },
    "kernelspec": {
      "name": "python3",
      "display_name": "Python 3"
    },
    "language_info": {
      "name": "python"
    }
  },
  "cells": [
    {
      "cell_type": "markdown",
      "metadata": {
        "id": "view-in-github",
        "colab_type": "text"
      },
      "source": [
        "<a href=\"https://colab.research.google.com/github/akhilesh-kanmanthreddy/2024-Science-Fair-Tumor-Evolution-Forecasting/blob/main/Science_fair_2024_Data_Preprocessing_Google_Colab.ipynb\" target=\"_parent\"><img src=\"https://colab.research.google.com/assets/colab-badge.svg\" alt=\"Open In Colab\"/></a>"
      ]
    },
    {
      "cell_type": "markdown",
      "source": [
        "**2024 Science fair data preprocessing code**"
      ],
      "metadata": {
        "id": "_x7fuw2JqQT0"
      }
    },
    {
      "cell_type": "markdown",
      "source": [
        "**Converting from nii to stl**"
      ],
      "metadata": {
        "id": "qiPb3CHgdD4H"
      }
    },
    {
      "cell_type": "code",
      "source": [
        "!pip install stl"
      ],
      "metadata": {
        "colab": {
          "base_uri": "https://localhost:8080/"
        },
        "id": "z0iXeHV_YcKt",
        "outputId": "aee1b6f0-6127-493b-db8d-408a8251ae4d"
      },
      "execution_count": null,
      "outputs": [
        {
          "output_type": "stream",
          "name": "stdout",
          "text": [
            "Collecting stl\n",
            "  Downloading stl-0.0.3.tar.gz (4.2 kB)\n",
            "  Preparing metadata (setup.py) ... \u001b[?25l\u001b[?25hdone\n",
            "Building wheels for collected packages: stl\n",
            "  Building wheel for stl (setup.py) ... \u001b[?25l\u001b[?25hdone\n",
            "  Created wheel for stl: filename=stl-0.0.3-py3-none-any.whl size=5341 sha256=95b5707e8683d848823770ef20ce1e9b832a5c509614c95efe3822f37c3fbb95\n",
            "  Stored in directory: /root/.cache/pip/wheels/e5/ec/d8/f7563096d6e3563c236dd89ee682820474d594cd20bff73deb\n",
            "Successfully built stl\n",
            "Installing collected packages: stl\n",
            "Successfully installed stl-0.0.3\n"
          ]
        }
      ]
    },
    {
      "cell_type": "code",
      "execution_count": null,
      "metadata": {
        "id": "DroPIp5np3Sp"
      },
      "outputs": [],
      "source": [
        "#installs and imports\n",
        "import nibabel as nib\n",
        "import numpy as np\n",
        "from stl import mesh\n",
        "from skimage import measure"
      ]
    },
    {
      "cell_type": "code",
      "source": [
        "#input file path\n",
        "file_path = \"input.nii\""
      ],
      "metadata": {
        "id": "7vZiP5vjp_SU"
      },
      "execution_count": null,
      "outputs": []
    },
    {
      "cell_type": "code",
      "source": [
        "\n",
        "# Extract the numpy array\n",
        "nifti_file = nib.load(file_path)\n",
        "np_array = nifti_file.get_fdata()"
      ],
      "metadata": {
        "id": "f2TyW9G2qAwy"
      },
      "execution_count": null,
      "outputs": []
    },
    {
      "cell_type": "code",
      "source": [
        "\n",
        "verts, faces, normals, values = measure.marching_cubes(np_array, 0)\n",
        "obj_3d = mesh.Mesh(np.zeros(faces.shape[0], dtype=mesh.Mesh.dtype))"
      ],
      "metadata": {
        "id": "8B4_8Pp_qB17"
      },
      "execution_count": null,
      "outputs": []
    },
    {
      "cell_type": "code",
      "source": [
        "\n",
        "for i, f in enumerate(faces):\n",
        "    obj_3d.vectors[i] = verts[f]\n",
        "\n",
        "# Save the STL file with the name and the path output file path\n",
        "obj_3d.save('output.stl')"
      ],
      "metadata": {
        "id": "Ys2WlKLEqDJu"
      },
      "execution_count": null,
      "outputs": []
    },
    {
      "cell_type": "markdown",
      "source": [
        "**Converting from stl to obj**"
      ],
      "metadata": {
        "id": "H2bYdKa-dNH2"
      }
    },
    {
      "cell_type": "code",
      "source": [
        "pip install aspose-3d"
      ],
      "metadata": {
        "colab": {
          "base_uri": "https://localhost:8080/"
        },
        "id": "1jfurflIc4fM",
        "outputId": "42c4b2f5-8f48-4063-8fa8-e73af89b27f2"
      },
      "execution_count": null,
      "outputs": [
        {
          "output_type": "stream",
          "name": "stdout",
          "text": [
            "Collecting aspose-3d\n",
            "  Downloading aspose_3d-23.12.0-py3-none-manylinux1_x86_64.whl (48.3 MB)\n",
            "\u001b[2K     \u001b[90m━━━━━━━━━━━━━━━━━━━━━━━━━━━━━━━━━━━━━━━━\u001b[0m \u001b[32m48.3/48.3 MB\u001b[0m \u001b[31m14.5 MB/s\u001b[0m eta \u001b[36m0:00:00\u001b[0m\n",
            "\u001b[?25hInstalling collected packages: aspose-3d\n",
            "Successfully installed aspose-3d-23.12.0\n"
          ]
        }
      ]
    },
    {
      "cell_type": "code",
      "source": [
        "import aspose.threed as a3d"
      ],
      "metadata": {
        "id": "uVaObIJYdCTq"
      },
      "execution_count": null,
      "outputs": []
    },
    {
      "cell_type": "code",
      "source": [
        "scene = a3d.Scene.from_file(\"/content/drive/MyDrive/Science Fair 2024 Data/patient 010061-6/010061N-stl/010061_19010905_eTRA-3D-T1Gd_img.stl\")\n",
        "scene.save(\"/content/drive/MyDrive/Science Fair 2024 Data/patient 010061-6/010061N-stl/010061_19010905_eTRA-3D-T1Gd_img.obj\")"
      ],
      "metadata": {
        "id": "w4d5HoIWdViz"
      },
      "execution_count": null,
      "outputs": []
    },
    {
      "cell_type": "markdown",
      "source": [
        "**Center 3D model**"
      ],
      "metadata": {
        "id": "uLBCPP8bjf1j"
      }
    },
    {
      "cell_type": "code",
      "source": [
        "!pip install objpy\n",
        "!pip install pywavefront"
      ],
      "metadata": {
        "colab": {
          "base_uri": "https://localhost:8080/"
        },
        "id": "hdDcR3qAjlLX",
        "outputId": "cb1d6805-6658-436d-abd6-df02f2c7da1b"
      },
      "execution_count": null,
      "outputs": [
        {
          "output_type": "stream",
          "name": "stdout",
          "text": [
            "\u001b[31mERROR: Could not find a version that satisfies the requirement objpy (from versions: none)\u001b[0m\u001b[31m\n",
            "\u001b[0m\u001b[31mERROR: No matching distribution found for objpy\u001b[0m\u001b[31m\n",
            "\u001b[0mCollecting pywavefront\n",
            "  Downloading PyWavefront-1.3.3-py3-none-any.whl (28 kB)\n",
            "Installing collected packages: pywavefront\n",
            "Successfully installed pywavefront-1.3.3\n"
          ]
        }
      ]
    },
    {
      "cell_type": "code",
      "source": [
        "from pywavefront import Wavefront"
      ],
      "metadata": {
        "id": "zkCAjETqjnm6"
      },
      "execution_count": null,
      "outputs": []
    },
    {
      "cell_type": "code",
      "source": [
        "def center_3d_model(obj_file_path):\n",
        "    # Load the OBJ file\n",
        "    obj = Wavefront(obj_file_path)\n",
        "    # Extract vertex coordinates\n",
        "    vertices = obj.vertices\n",
        "    # Calculate the current center\n",
        "    center = (\n",
        "        sum(vertex[0] for vertex in vertices) / len(vertices),\n",
        "        sum(vertex[1] for vertex in vertices) / len(vertices),\n",
        "        sum(vertex[2] for vertex in vertices) / len(vertices)\n",
        "    )\n",
        "    # Translate to the origin\n",
        "    centered_vertices = [(vertex[0] - center[0], vertex[1] - center[1], vertex[2] - center[2]) for vertex in vertices]\n",
        "    # Save the centered model to a new OBJ file\n",
        "    output_obj_file_path = obj_file_path.replace('.obj', '_centered.obj')\n",
        "    with open(output_obj_file_path, 'w') as output_file:\n",
        "        # Write vertices to the output OBJ file\n",
        "        for vertex in centered_vertices:\n",
        "            output_file.write(f\"v {vertex[0]} {vertex[1]} {vertex[2]}\\n\")\n",
        "    print(f\"Centered model saved to {output_obj_file_path}\")"
      ],
      "metadata": {
        "id": "bIFwa93ojil7"
      },
      "execution_count": null,
      "outputs": []
    },
    {
      "cell_type": "code",
      "source": [
        "center_3d_model('/content/drive/MyDrive/Science Fair 2024 Data/patient 040078-12/040078N-obj/040078_19010305_Ax_FSPGR_BRAVO_msk/tinker.obj')"
      ],
      "metadata": {
        "colab": {
          "base_uri": "https://localhost:8080/"
        },
        "id": "K3N7QnKBkUnj",
        "outputId": "262e4804-eba1-4418-a15f-4ce343d35110"
      },
      "execution_count": null,
      "outputs": [
        {
          "output_type": "stream",
          "name": "stderr",
          "text": [
            "Unimplemented OBJ format statement 'g' on line 'g group_0_14528853'\n",
            "WARNING:pywavefront:Unimplemented OBJ format statement 'g' on line 'g group_0_14528853'\n",
            "Unimplemented OBJ format statement 's' on line 's 0'\n",
            "WARNING:pywavefront:Unimplemented OBJ format statement 's' on line 's 0'\n",
            "Unimplemented OBJ format statement '#end' on line ' #end of obj_0'\n",
            "WARNING:pywavefront:Unimplemented OBJ format statement '#end' on line ' #end of obj_0'\n"
          ]
        },
        {
          "output_type": "stream",
          "name": "stdout",
          "text": [
            "Centered model saved to /content/drive/MyDrive/Science Fair 2024 Data/patient 040078-12/040078N-obj/040078_19010305_Ax_FSPGR_BRAVO_msk/tinker_centered.obj\n"
          ]
        }
      ]
    }
  ]
}
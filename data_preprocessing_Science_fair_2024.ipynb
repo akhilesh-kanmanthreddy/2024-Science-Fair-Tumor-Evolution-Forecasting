{
  "nbformat": 4,
  "nbformat_minor": 0,
  "metadata": {
    "colab": {
      "provenance": [],
      "mount_file_id": "1kPvzIxs9qy08u5JbxZtDOsDqpoyiwJEc",
      "authorship_tag": "ABX9TyMABjFtx7IlxOXEA7fQIuNz",
      "include_colab_link": true
    },
    "kernelspec": {
      "name": "python3",
      "display_name": "Python 3"
    },
    "language_info": {
      "name": "python"
    }
  },
  "cells": [
    {
      "cell_type": "markdown",
      "metadata": {
        "id": "view-in-github",
        "colab_type": "text"
      },
      "source": [
        "<a href=\"https://colab.research.google.com/github/akhilesh-kanmanthreddy/2024_Science_Fair_Tumor_Evolution_Forecasting/blob/main/data_preprocessing_Science_fair_2024.ipynb\" target=\"_parent\"><img src=\"https://colab.research.google.com/assets/colab-badge.svg\" alt=\"Open In Colab\"/></a>"
      ]
    },
    {
      "cell_type": "markdown",
      "source": [
        "# **2024 Science Fair Data Preprocessing**"
      ],
      "metadata": {
        "id": "wgyZykLIttUc"
      }
    },
    {
      "cell_type": "code",
      "source": [
        "!pip install pywavefront"
      ],
      "metadata": {
        "id": "_Z5SpwJOB9k1",
        "colab": {
          "base_uri": "https://localhost:8080/"
        },
        "outputId": "7f7c138d-782f-4620-a8f9-717ad8d18165"
      },
      "execution_count": null,
      "outputs": [
        {
          "output_type": "stream",
          "name": "stdout",
          "text": [
            "Collecting pywavefront\n",
            "  Downloading PyWavefront-1.3.3-py3-none-any.whl (28 kB)\n",
            "Installing collected packages: pywavefront\n",
            "Successfully installed pywavefront-1.3.3\n"
          ]
        }
      ]
    },
    {
      "cell_type": "code",
      "source": [
        "from pywavefront import Wavefront\n",
        "def center_3d_model(obj_file_path):\n",
        "    # Load the OBJ file\n",
        "    obj = Wavefront(obj_file_path)\n",
        "    # Extract vertex coordinates\n",
        "    vertices = obj.vertices\n",
        "    # Calculate the current center\n",
        "    center = (\n",
        "        sum(vertex[0] for vertex in vertices) / len(vertices),\n",
        "        sum(vertex[1] for vertex in vertices) / len(vertices),\n",
        "        sum(vertex[2] for vertex in vertices) / len(vertices)\n",
        "    )\n",
        "    # Translate to the origin\n",
        "    centered_vertices = [(vertex[0] - center[0], vertex[1] - center[1], vertex[2] - center[2]) for vertex in vertices]\n",
        "    # Save the centered model to a new OBJ file\n",
        "    output_obj_file_path = obj_file_path.replace('.obj', '_centered.obj')\n",
        "    with open(output_obj_file_path, 'w') as output_file:\n",
        "        # Write vertices to the output OBJ file\n",
        "        for vertex in centered_vertices:\n",
        "            output_file.write(f\"v {vertex[0]} {vertex[1]} {vertex[2]}\\n\")\n",
        "    print(f\"Centered model saved to {output_obj_file_path}\")"
      ],
      "metadata": {
        "id": "acXvmEU2WkKZ"
      },
      "execution_count": null,
      "outputs": []
    },
    {
      "cell_type": "code",
      "source": [
        "center_3d_model(\"\")"
      ],
      "metadata": {
        "id": "g-YbXcFqBRnO"
      },
      "execution_count": null,
      "outputs": []
    }
  ]
}